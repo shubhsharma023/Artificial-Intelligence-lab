{
  "cells": [
    {
      "cell_type": "markdown",
      "metadata": {
        "id": "3JKs4wdtWB-3"
      },
      "source": [
        "### Shubhankar Sharma , Date: 25 Jan 2024"
      ]
    },
    {
      "cell_type": "markdown",
      "metadata": {
        "id": "QVqgvkmGVno9"
      },
      "source": [
        "# Human Vs Human Tic Tac Toe"
      ]
    },
    {
      "cell_type": "code",
      "execution_count": 4,
      "metadata": {
        "colab": {
          "base_uri": "https://localhost:8080/"
        },
        "id": "CsSRkCXCVz6c",
        "outputId": "dab33de0-1c0e-45fe-ab59-4f0e766ed39e"
      },
      "outputs": [
        {
          "name": "stdout",
          "output_type": "stream",
          "text": [
            "   |     |   \n",
            "-------------\n",
            "   |     |   \n",
            "-------------\n",
            "   |     |   \n",
            "Enter your move (1-9): 5\n",
            "   |     |   \n",
            "-------------\n",
            "   |  O  |   \n",
            "-------------\n",
            "   |     |   \n",
            "Enter your move (1-9): 1\n",
            "X  |     |   \n",
            "-------------\n",
            "   |  O  |   \n",
            "-------------\n",
            "   |     |   \n",
            "Enter your move (1-9): 3\n",
            "X  |     |  O\n",
            "-------------\n",
            "   |  O  |   \n",
            "-------------\n",
            "   |     |   \n",
            "Enter your move (1-9): 7\n",
            "X  |     |  O\n",
            "-------------\n",
            "   |  O  |   \n",
            "-------------\n",
            "X  |     |   \n",
            "Enter your move (1-9): 4\n",
            "X  |     |  O\n",
            "-------------\n",
            "O  |  O  |   \n",
            "-------------\n",
            "X  |     |   \n",
            "Enter your move (1-9): 6\n",
            "X  |     |  O\n",
            "-------------\n",
            "O  |  O  |  X\n",
            "-------------\n",
            "X  |     |   \n",
            "Enter your move (1-9): 2\n",
            "X  |  O  |  O\n",
            "-------------\n",
            "O  |  O  |  X\n",
            "-------------\n",
            "X  |     |   \n",
            "Enter your move (1-9): 9\n",
            "X  |  O  |  O\n",
            "-------------\n",
            "O  |  O  |  X\n",
            "-------------\n",
            "X  |     |  X\n",
            "Enter your move (1-9): 8\n",
            "X  |  O  |  O\n",
            "-------------\n",
            "O  |  O  |  X\n",
            "-------------\n",
            "X  |  O  |  X\n",
            "Congratulations! Player O has won the game!\n"
          ]
        }
      ],
      "source": [
        "import random\n",
        "\n",
        "def board_display(board):\n",
        "    print(board[0][0], \" | \", board[0][1], \" | \", board[0][2])\n",
        "    print(\"-------------\")\n",
        "    print(board[1][0], \" | \", board[1][1], \" | \", board[1][2])\n",
        "    print(\"-------------\")\n",
        "    print(board[2][0], \" | \", board[2][1], \" | \", board[2][2])\n",
        "\n",
        "def IsWinner(board):\n",
        "    for i in range(3):\n",
        "        if board[i][0] == board[i][1] == board[i][2] != \" \":\n",
        "            return board[i][0]\n",
        "        if board[0][i] == board[1][i] == board[2][i] != \" \":\n",
        "            return board[0][i]\n",
        "        if board[i][0] == board[1][1] == board[2][2] != \" \":\n",
        "            return board[i][0]\n",
        "        if board[0][2] == board[1][1] == board[2][0] != \" \":\n",
        "            return board[0][2]\n",
        "    return None\n",
        "\n",
        "def playerMove(board, player):\n",
        "    while True:\n",
        "        move = input(\"Enter your move (1-9): \")\n",
        "        if move.isdigit() and int(move) in range(1,10):\n",
        "            move = int(move) - 1\n",
        "            if board[move//3][move%3] == \" \":\n",
        "                board[move//3][move%3] = player\n",
        "                break\n",
        "            else:\n",
        "                print(\"Invalid move. Try again.\")\n",
        "        else:\n",
        "            print(\"Invalid input. Try again.\")\n",
        "\n",
        "def main():\n",
        "    board = [[\" \" for i in range(3)] for j in range(3)]\n",
        "    players = [\"X\", \"O\"]\n",
        "    current_player = random.choice(players)\n",
        "\n",
        "    while True:\n",
        "        board_display(board)\n",
        "        winner = IsWinner(board)\n",
        "        if winner:\n",
        "            print(f\"Congratulations! Player {winner} has won the game!\")\n",
        "            break\n",
        "        if all(board[i][j] != \" \" for i in range(3) for j in range(3)):\n",
        "            print(\"The game is a tie!\")\n",
        "            break\n",
        "        playerMove(board, current_player)\n",
        "        current_player = players[players.index(current_player) ^ 1]\n",
        "\n",
        "if __name__ == \"__main__\":\n",
        "    main()\n"
      ]
    },
    {
      "cell_type": "markdown",
      "metadata": {
        "id": "09NbnJ5CV3_c"
      },
      "source": [
        "#Human Vs AI Tic Tac Toe"
      ]
    },
    {
      "cell_type": "code",
      "execution_count": 1,
      "metadata": {
        "colab": {
          "base_uri": "https://localhost:8080/"
        },
        "id": "G-ltDHj3WN3q",
        "outputId": "b4bca379-a691-45b3-c858-01721e753d52"
      },
      "outputs": [
        {
          "name": "stdout",
          "output_type": "stream",
          "text": [
            "  |   |  \n",
            "---------\n",
            "  |   |  \n",
            "---------\n",
            "  |   |  \n",
            "---------\n",
            "  | X |  \n",
            "---------\n",
            "  | O |  \n",
            "---------\n",
            "  |   |  \n",
            "---------\n",
            "Invalid move! Try again.\n",
            "  | X |  \n",
            "---------\n",
            "  | O |  \n",
            "---------\n",
            "  |   |  \n",
            "---------\n"
          ]
        },
        {
          "ename": "ValueError",
          "evalue": "invalid literal for int() with base 10: ''",
          "output_type": "error",
          "traceback": [
            "\u001b[0;31m---------------------------------------------------------------------------\u001b[0m",
            "\u001b[0;31mValueError\u001b[0m                                Traceback (most recent call last)",
            "Cell \u001b[0;32mIn[1], line 49\u001b[0m\n\u001b[1;32m     47\u001b[0m \u001b[38;5;28;01mwhile\u001b[39;00m \u001b[38;5;28;01mTrue\u001b[39;00m:\n\u001b[1;32m     48\u001b[0m     board_display(board)\n\u001b[0;32m---> 49\u001b[0m     player_row \u001b[38;5;241m=\u001b[39m \u001b[38;5;28;43mint\u001b[39;49m\u001b[43m(\u001b[49m\u001b[38;5;28;43minput\u001b[39;49m\u001b[43m(\u001b[49m\u001b[38;5;124;43m\"\u001b[39;49m\u001b[38;5;124;43mEnter your move (row): \u001b[39;49m\u001b[38;5;124;43m\"\u001b[39;49m\u001b[43m)\u001b[49m\u001b[43m)\u001b[49m\n\u001b[1;32m     50\u001b[0m     player_col \u001b[38;5;241m=\u001b[39m \u001b[38;5;28mint\u001b[39m(\u001b[38;5;28minput\u001b[39m(\u001b[38;5;124m\"\u001b[39m\u001b[38;5;124mEnter your move (column): \u001b[39m\u001b[38;5;124m\"\u001b[39m))\n\u001b[1;32m     52\u001b[0m     \u001b[38;5;66;03m# Check if the player's move is valid\u001b[39;00m\n",
            "\u001b[0;31mValueError\u001b[0m: invalid literal for int() with base 10: ''"
          ]
        }
      ],
      "source": [
        "\n",
        "import random\n",
        "\n",
        "def board_display(board):\n",
        "    for row in board:\n",
        "        print(\" | \".join(row))\n",
        "        print(\"---------\")\n",
        "\n",
        "def IsWinner(board, player):\n",
        "    for i in range(3):\n",
        "        if all(board[i][j] == player for j in range(3)) or all(board[j][i] == player for j in range(3)):\n",
        "            return True\n",
        "    if all(board[i][i] == player for i in range(3)) or all(board[i][2-i] == player for i in range(3)):\n",
        "        return True\n",
        "    return False\n",
        "\n",
        "def get_empty_positions(board):\n",
        "    return [(i, j) for i in range(3) for j in range(3) if board[i][j] == ' ']\n",
        "\n",
        "def simple_ai_move(board):\n",
        "    empty_positions = get_empty_positions(board)\n",
        "\n",
        "    # Check if AI can win in the next move\n",
        "    for row, col in empty_positions:\n",
        "        board[row][col] = 'O'\n",
        "        if IsWinner(board, 'O'):\n",
        "            return row, col\n",
        "        board[row][col] = ' '\n",
        "\n",
        "    # Check if the player can win in the next move and block them\n",
        "    for row, col in empty_positions:\n",
        "        board[row][col] = 'X'\n",
        "        if IsWinner(board, 'X'):\n",
        "            return row, col\n",
        "        board[row][col] = ' '\n",
        "\n",
        "    # If the center is available, take it\n",
        "    if (1, 1) in empty_positions:\n",
        "        return 1, 1\n",
        "\n",
        "    # Otherwise, make a random move\n",
        "    return random.choice(empty_positions)\n",
        "\n",
        "if __name__ == '__main__':\n",
        "    # Assuming you have a 3x3 board initialized as follows\n",
        "    board = [[' ' for _ in range(3)] for _ in range(3)]\n",
        "\n",
        "    while True:\n",
        "        board_display(board)\n",
        "        player_row = int(input(\"Enter your move (row): \"))\n",
        "        player_col = int(input(\"Enter your move (column): \"))\n",
        "\n",
        "        # Check if the player's move is valid\n",
        "        if board[player_row][player_col] == ' ':\n",
        "            board[player_row][player_col] = 'X'\n",
        "        else:\n",
        "            print(\"Invalid move! Try again.\")\n",
        "            continue\n",
        "\n",
        "        # Check if the player wins\n",
        "        if IsWinner(board, 'X'):\n",
        "            board_display(board)\n",
        "            print(\"Congratulations! You win!\")\n",
        "            break\n",
        "\n",
        "        # Check for a tie\n",
        "        if ' ' not in [cell for row in board for cell in row]:\n",
        "            board_display(board)\n",
        "            print(\"It's a tie!\")\n",
        "            break\n",
        "\n",
        "        # AI's move\n",
        "        ai_row, ai_col = simple_ai_move(board)\n",
        "        board[ai_row][ai_col] = 'O'\n",
        "\n",
        "        # Check if the AI wins\n",
        "        if IsWinner(board, 'O'):\n",
        "            board_display(board)\n",
        "            print(\"Noobie, you lose. AI wins!\")\n",
        "            break\n"
      ]
    }
  ],
  "metadata": {
    "colab": {
      "provenance": []
    },
    "kernelspec": {
      "display_name": "Python 3",
      "name": "python3"
    },
    "language_info": {
      "codemirror_mode": {
        "name": "ipython",
        "version": 3
      },
      "file_extension": ".py",
      "mimetype": "text/x-python",
      "name": "python",
      "nbconvert_exporter": "python",
      "pygments_lexer": "ipython3",
      "version": "3.12.1"
    }
  },
  "nbformat": 4,
  "nbformat_minor": 0
}
